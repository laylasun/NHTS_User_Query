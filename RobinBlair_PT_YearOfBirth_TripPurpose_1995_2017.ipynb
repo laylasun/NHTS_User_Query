{
 "cells": [
  {
   "cell_type": "code",
   "execution_count": 1,
   "metadata": {},
   "outputs": [],
   "source": [
    "import numpy as np\n",
    "import pandas as pd\n",
    "import csv\n",
    "import json\n",
    "import math\n",
    "import pyreadstat\n",
    "# Suppressing scientific notation in pandas? - Stack Overflow\n",
    "pd.set_option('display.float_format', lambda x: '%.3f' % x)"
   ]
  },
  {
   "cell_type": "markdown",
   "metadata": {},
   "source": [
    "For age, \n",
    "\n",
    "- we are going to use the fixed year of birth (YOB) groups and convert them (survey year – YOB) into age ranges. \n",
    "- For each survey year (1995-2017), we will set the minimum age at 16, which will be indicated in the final results. \n",
    "- The imputed age (R_AGE_IMP in 2017 and R_AGE in 1995,2001, and 2009) will be the specific age variable used in the final tables. \n",
    "- We will not include any other years of birth other than those indicated in your prior email.\n",
    "\n",
    "For the trip purpose, we will use variable WHYTRP90 with the following categories:\n",
    "1.\tWork (01–To/From Work + 02–Work-Related Business)\n",
    "2.\tSchool/church (05–School/Church)\n",
    "3.\tOther social/recreational (10–Other Social/Recreational)\n",
    "4.\tShopping and family/personal business (03–Shopping + 04–Other Family/Personal Business)\n",
    "5.\tVisit friends/relatives (08– Visit Friends/Relatives)\n",
    "\n",
    "For each survey year, you will see four tables:\n",
    "1.\tAnnualized weighted sum for person trips (PT) by age group (YOB based) by trip purpose for all 7 days.\n",
    "2.\tSample size for person trips (PT) by age group (YOB based) by trip purpose for all 7 days.\n",
    "3.\tAnnualized weighted sum for person trips (PT) by age group (YOB based) by trip purpose for weekdays (M-F) only.\n",
    "4.\tSample size for person trips (PT) by age group (YOB based) by trip purpose for weekdays (M-F) only.\n",
    "\n",
    "Hence, in total 16 tables will be generated.\n"
   ]
  },
  {
   "cell_type": "markdown",
   "metadata": {},
   "source": [
    "#### 2017 NHTS"
   ]
  },
  {
   "cell_type": "code",
   "execution_count": 2,
   "metadata": {},
   "outputs": [],
   "source": [
    "# Read in trip\n",
    "f_trippub = r'E:\\GIS_Data\\Layla2019_NHTS_backup\\2017csv_v1.2\\trippub.csv'\n",
    "trip = pd.read_csv(f_trippub)"
   ]
  },
  {
   "cell_type": "code",
   "execution_count": null,
   "metadata": {},
   "outputs": [],
   "source": [
    "def whytrp90_re (row)"
   ]
  }
 ],
 "metadata": {
  "kernelspec": {
   "display_name": "Python 3",
   "language": "python",
   "name": "python3"
  },
  "language_info": {
   "codemirror_mode": {
    "name": "ipython",
    "version": 3
   },
   "file_extension": ".py",
   "mimetype": "text/x-python",
   "name": "python",
   "nbconvert_exporter": "python",
   "pygments_lexer": "ipython3",
   "version": "3.7.3"
  }
 },
 "nbformat": 4,
 "nbformat_minor": 2
}
